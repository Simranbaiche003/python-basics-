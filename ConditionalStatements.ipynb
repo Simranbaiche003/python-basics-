{
 "cells": [
  {
   "cell_type": "markdown",
   "metadata": {},
   "source": [
    "## Conditional Statements\n",
    "- Introduction to conditional statements\n",
    "- if statement \n",
    "- lese statement\n",
    "- elif statement\n",
    "- Nested Conditonal Statement\n",
    "- Practical Examples\n",
    "- Common Error and Best Practice"
   ]
  },
  {
   "cell_type": "code",
   "execution_count": 14,
   "metadata": {},
   "outputs": [
    {
     "name": "stdout",
     "output_type": "stream",
     "text": [
      " you are adult\n"
     ]
    }
   ],
   "source": [
    "## if statement \n",
    "#3 if the condition is true then only statement will get executed\n",
    "age=66\n",
    "\n",
    "\n",
    "if age >18:\n",
    "    print(\" you are adult\")"
   ]
  },
  {
   "cell_type": "code",
   "execution_count": 17,
   "metadata": {},
   "outputs": [
    {
     "name": "stdout",
     "output_type": "stream",
     "text": [
      "You are a minor\n"
     ]
    }
   ],
   "source": [
    "## else \n",
    "##  The else statement executes a block of code if the conditons in the if statement is False\n",
    "\n",
    "age = 16\n",
    "\n",
    "if age>=18:\n",
    "    print(\"You are eligible for voting\")\n",
    "else:\n",
    "    print(\"You are a minor\")\n"
   ]
  },
  {
   "cell_type": "code",
   "execution_count": 9,
   "metadata": {},
   "outputs": [
    {
     "name": "stdout",
     "output_type": "stream",
     "text": [
      " you are adult\n"
     ]
    }
   ],
   "source": [
    "## else statement\n",
    "age=66\n",
    "if age >18:\n",
    "    print(\" you are adult\")\n",
    "else:\n",
    "    print(\"you are child\")\n"
   ]
  },
  {
   "cell_type": "code",
   "execution_count": 16,
   "metadata": {},
   "outputs": [
    {
     "name": "stdout",
     "output_type": "stream",
     "text": [
      " you are adult\n"
     ]
    }
   ],
   "source": [
    "## else statement by user\n",
    "age=int(input(\"enter your current age\"))\n",
    "if age >18:\n",
    "    print(\" you are adult\")\n",
    "else:\n",
    "    print(\"you are child\")\n",
    "\n",
    "\n",
    "\n"
   ]
  },
  {
   "cell_type": "code",
   "execution_count": 22,
   "metadata": {},
   "outputs": [
    {
     "name": "stdout",
     "output_type": "stream",
     "text": [
      "you are teenager\n"
     ]
    }
   ],
   "source": [
    "## elif statement\n",
    "## the elif statement allows you to check multiple conditons . It stand for \"else if\"\n",
    "\n",
    "age =17\n",
    "\n",
    "if age<13:\n",
    "    print(\"you are a child\")\n",
    "elif age<18:\n",
    "    print(\"you are teenager\")\n",
    "else:\n",
    "    print(\"you are audlt\")\n"
   ]
  },
  {
   "cell_type": "code",
   "execution_count": 25,
   "metadata": {},
   "outputs": [
    {
     "name": "stdout",
     "output_type": "stream",
     "text": [
      "the number is positive\n",
      " the number is even\n"
     ]
    }
   ],
   "source": [
    "##  Nested conditional statement\n",
    "## we can use combination of if, elseif, else statement inside if , elif, else statement \n",
    "\n",
    "## number is it even odd or negative\n",
    "\n",
    "num=int(input(\"enter the number:\"))\n",
    "\n",
    "if num>0:\n",
    "    print(\"the number is positive\")\n",
    "    if num%2==0: # % - reminder is 0 then it's even \n",
    "        print(\" the number is even\")\n",
    "    else:\n",
    "        print(\"number is odd\")\n",
    "\n",
    "else:\n",
    "    print(\"the number is negative\")"
   ]
  },
  {
   "cell_type": "code",
   "execution_count": 32,
   "metadata": {},
   "outputs": [
    {
     "name": "stdout",
     "output_type": "stream",
     "text": [
      "No chances of Getting Scholarshipo\n"
     ]
    }
   ],
   "source": [
    "## practice\n",
    "\n",
    "salary=int(input(\"how much do your family earn yearly:\"))\n",
    "\n",
    "if salary<500000:\n",
    "    print(\"you can apply for scholarship\")\n",
    "    if salary<300000:\n",
    "        print(\" 100% chances of getting scholarship\")\n",
    "    else:\n",
    "        print(\"Chances of getting scholarship is 50%\")\n",
    "\n",
    "else:\n",
    "    print(\"No chances of Getting Scholarshipo\")\n",
    "\n"
   ]
  },
  {
   "cell_type": "code",
   "execution_count": 33,
   "metadata": {},
   "outputs": [
    {
     "name": "stdout",
     "output_type": "stream",
     "text": [
      "hello\n",
      "it not leap year\n"
     ]
    }
   ],
   "source": [
    "## Practical examples\n",
    "\n",
    "## Determine if year is a leap year using nested condition statement \n",
    "\n",
    "\n",
    "\n",
    "\n",
    "\n",
    "year = int(input(\" Enter the year:\"))\n",
    "\n",
    "if year>0:\n",
    "    print(\"hello\")\n",
    "    if year%4==0:\n",
    "        print(\"its a leap year\")\n",
    "    else:\n",
    "        print(\"it not leap year\")\n",
    "\n",
    "else:\n",
    "    print(\"have a nice year\")\n"
   ]
  },
  {
   "cell_type": "code",
   "execution_count": 34,
   "metadata": {},
   "outputs": [
    {
     "name": "stdout",
     "output_type": "stream",
     "text": [
      "2024 is a leap year\n"
     ]
    }
   ],
   "source": [
    "year = int(input(\" Enter the year:\"))\n",
    "\n",
    "\n",
    "\n",
    "if year%4==0:\n",
    "    if year%100==0:\n",
    "        if year%400==0:\n",
    "            print(year,\"is the leap year\")\n",
    "        else:\n",
    "            print(year,\"is not leap year\")\n",
    "    else:\n",
    "        print(year,\"is a leap year\")\n",
    "else:\n",
    "    print(year,\"is not a leap year\")\n",
    "\n",
    " "
   ]
  },
  {
   "cell_type": "code",
   "execution_count": 47,
   "metadata": {},
   "outputs": [
    {
     "name": "stdout",
     "output_type": "stream",
     "text": [
      "0 result in module\n"
     ]
    }
   ],
   "source": [
    "## assigmn et\n",
    "## calculator program input form user\n",
    "\n",
    "\n",
    "num1=int(input(\"enter the number:\"))\n",
    "num2=int(input(\"enter the second number\"))\n",
    "operation =input(\"enter operation \")\n",
    "\n",
    "\n",
    "if operation == \"+\":\n",
    "    addition = num1 + num2\n",
    "    print(addition,\"reult of addition\")\n",
    "elif operation == \"-\":\n",
    "    subtraction= num1 - num2\n",
    "    print(subtraction,\"result in sub\")\n",
    "elif operation == \"/\":\n",
    "    division = num1 / num2\n",
    "    print(division,\"result in division\")\n",
    "elif operation == \"%\":\n",
    "    module= num1 % num2 \n",
    "    print(module,\"result in module\")\n",
    "elif operation== \"*\":\n",
    "    multiplication = num1 * num2\n",
    "    print(multiplication,\"result in multiplication\")\n",
    "\n",
    "else:\n",
    "    print(\"its error\")\n"
   ]
  },
  {
   "cell_type": "code",
   "execution_count": null,
   "metadata": {},
   "outputs": [],
   "source": []
  }
 ],
 "metadata": {
  "kernelspec": {
   "display_name": "Python 3",
   "language": "python",
   "name": "python3"
  },
  "language_info": {
   "codemirror_mode": {
    "name": "ipython",
    "version": 3
   },
   "file_extension": ".py",
   "mimetype": "text/x-python",
   "name": "python",
   "nbconvert_exporter": "python",
   "pygments_lexer": "ipython3",
   "version": "3.12.0"
  }
 },
 "nbformat": 4,
 "nbformat_minor": 2
}
