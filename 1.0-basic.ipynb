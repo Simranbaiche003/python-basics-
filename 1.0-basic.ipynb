{
 "cells": [
  {
   "cell_type": "markdown",
   "metadata": {},
   "source": [
    "syntax: it refer to the set of rules that defines the combination of symbols that are consdered to be corectly structured programs in a language . In similar terms, syntax is about the correct arrangement of words and symbols in a code\n",
    "\n",
    "semantics: refers to the meaning or the interpretation of the symbols, characters and commands in a language. It is about what the code is supposed to do when itr runs "
   ]
  },
  {
   "cell_type": "code",
   "execution_count": 2,
   "metadata": {},
   "outputs": [
    {
     "name": "stdout",
     "output_type": "stream",
     "text": [
      "sim\n",
      "Baiche\n"
     ]
    }
   ],
   "source": [
    "## BASIC SYNTAX RULES IN PYTHON \n",
    "##CASE SENSITIVITY  - PYTHON IS CASE SENSITIVE \n",
    "\n",
    "name = \"sim\"\n",
    "Name = \"Baiche\"\n",
    "print(name)\n",
    "print(Name)"
   ]
  },
  {
   "cell_type": "markdown",
   "metadata": {},
   "source": [
    "## Indentation:\n",
    "\n",
    "Indentation in python is used to define the structure and hierarchy of the code. Unlike many other programming langueage that use braces{} to define block of code . Python uses to determine the grouping of statements. this means that all statements within a block must be included at the same level "
   ]
  },
  {
   "cell_type": "code",
   "execution_count": 1,
   "metadata": {},
   "outputs": [],
   "source": [
    "## Indentation\n",
    "## python uses indentation to define block of code . consistent use of (commonly 4) or a tab is required\n"
   ]
  },
  {
   "cell_type": "code",
   "execution_count": 2,
   "metadata": {},
   "outputs": [
    {
     "name": "stdout",
     "output_type": "stream",
     "text": [
      "43\n"
     ]
    }
   ],
   "source": [
    "##Line Continuation\n",
    "## use a backslash (\\) to contiue a statement to next line \n",
    "\n",
    "total=1+2+3+3+4+\\\n",
    "5+6+6+6+7\n",
    "print(total)\n"
   ]
  },
  {
   "cell_type": "code",
   "execution_count": 4,
   "metadata": {},
   "outputs": [
    {
     "name": "stdout",
     "output_type": "stream",
     "text": [
      "15\n"
     ]
    }
   ],
   "source": [
    "## multiple staetment on single line \n",
    "x=5; y=10; z=x+y\n",
    "print(z)"
   ]
  },
  {
   "cell_type": "code",
   "execution_count": 6,
   "metadata": {},
   "outputs": [
    {
     "name": "stdout",
     "output_type": "stream",
     "text": [
      "<class 'int'>\n"
     ]
    },
    {
     "data": {
      "text/plain": [
       "str"
      ]
     },
     "execution_count": 6,
     "metadata": {},
     "output_type": "execute_result"
    }
   ],
   "source": [
    "##semantics in python\n",
    "## variabl assigment\n",
    "age = 32 ##age is in\n",
    "name=\"simr\"\n",
    "\n",
    "print(type(age)) ## type inference:\n",
    "type(name)"
   ]
  },
  {
   "cell_type": "code",
   "execution_count": null,
   "metadata": {},
   "outputs": [],
   "source": [
    "\n"
   ]
  }
 ],
 "metadata": {
  "kernelspec": {
   "display_name": "Python 3",
   "language": "python",
   "name": "python3"
  },
  "language_info": {
   "codemirror_mode": {
    "name": "ipython",
    "version": 3
   },
   "file_extension": ".py",
   "mimetype": "text/x-python",
   "name": "python",
   "nbconvert_exporter": "python",
   "pygments_lexer": "ipython3",
   "version": "3.12.0"
  }
 },
 "nbformat": 4,
 "nbformat_minor": 2
}
