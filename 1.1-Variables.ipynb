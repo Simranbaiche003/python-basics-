{
 "cells": [
  {
   "cell_type": "markdown",
   "metadata": {},
   "source": [
    "## Variables\n",
    "\n",
    "variables are fundamental elemnets in programming used to store data that cam be referenced and manipulated in program. In Python , variables are created when you assign a value to them, and they do not need declaration to reserve memory space. The declaration happens automatically when you assign a value to variable \n",
    "\n",
    "Outline:\n",
    "- Introduction to variables\n",
    "- declaring and assigning variables\n",
    "- naming conventions\n",
    "- understanding variable types\n",
    "- type checking and conversion\n",
    "- dynamic typing\n",
    "- practical examples and common error"
   ]
  },
  {
   "cell_type": "code",
   "execution_count": 1,
   "metadata": {},
   "outputs": [],
   "source": [
    "a=100\n"
   ]
  },
  {
   "cell_type": "code",
   "execution_count": 2,
   "metadata": {},
   "outputs": [
    {
     "name": "stdout",
     "output_type": "stream",
     "text": [
      "age: 32\n",
      "height: 6.0\n",
      "name: simran\n",
      "is_student: True\n"
     ]
    }
   ],
   "source": [
    "## Declaring and assigning variables\n",
    "\n",
    "age =32\n",
    "height = 6.0\n",
    "name= \"simran\"\n",
    "is_student= True\n",
    "\n",
    "##printing the variable\n",
    "print(\"age:\",age)\n",
    "print(\"height:\",height)\n",
    "print(\"name:\",name)\n",
    "print(\"is_student:\",is_student)"
   ]
  },
  {
   "cell_type": "code",
   "execution_count": 3,
   "metadata": {},
   "outputs": [],
   "source": [
    "## Naming conventiond\n",
    "## Variable nmae should be descriptive\n",
    "## they must always start with letter or '_' and contain letter, number and underscore\n",
    "## Variable names case sensitive\n",
    "\n",
    "## valid variable name\n",
    "\n",
    "first_nmae=\"simran\"\n",
    "last_name=\"bAICHE\"\n",
    "\n",
    "## invalid variable nmae\n",
    "\n",
    "# 2age=30\n",
    "#first-nmae=\"simr\"\n",
    "#@nmae=\"sim\""
   ]
  },
  {
   "cell_type": "code",
   "execution_count": 4,
   "metadata": {},
   "outputs": [
    {
     "name": "stdout",
     "output_type": "stream",
     "text": [
      "<class 'str'>\n"
     ]
    }
   ],
   "source": [
    "## Variable types\n",
    "\n",
    "## python is dynamically , type of vsriblr is declared at runtime\n",
    "\n",
    "\n",
    "age =32\n",
    "height = 6.0\n",
    "name= \"simran\"\n",
    "is_student= True\n",
    "\n",
    "print(type(name))"
   ]
  },
  {
   "cell_type": "code",
   "execution_count": 5,
   "metadata": {},
   "outputs": [
    {
     "name": "stdout",
     "output_type": "stream",
     "text": [
      "<class 'int'>\n",
      "32\n",
      "<class 'str'>\n"
     ]
    }
   ],
   "source": [
    "## Type checkin and convertion\n",
    "\n",
    "age=32\n",
    "print(type(age))\n",
    "\n",
    "# Type convertion\n",
    "age_str=str(age)\n",
    "print(age_str)\n",
    "print(type(age_str))"
   ]
  },
  {
   "cell_type": "code",
   "execution_count": 6,
   "metadata": {},
   "outputs": [
    {
     "name": "stdout",
     "output_type": "stream",
     "text": [
      "<class 'int'>\n"
     ]
    }
   ],
   "source": [
    "age='25'\n",
    "print(type(int(age)))"
   ]
  },
  {
   "cell_type": "code",
   "execution_count": 7,
   "metadata": {},
   "outputs": [
    {
     "data": {
      "text/plain": [
       "float"
      ]
     },
     "execution_count": 7,
     "metadata": {},
     "output_type": "execute_result"
    }
   ],
   "source": [
    "height=6.11\n",
    "type(height)\n",
    "\n",
    "#convertion\n"
   ]
  },
  {
   "cell_type": "code",
   "execution_count": 8,
   "metadata": {},
   "outputs": [
    {
     "data": {
      "text/plain": [
       "6.0"
      ]
     },
     "execution_count": 8,
     "metadata": {},
     "output_type": "execute_result"
    }
   ],
   "source": [
    "#convertion\n",
    "float(int(height))\n"
   ]
  },
  {
   "cell_type": "code",
   "execution_count": 9,
   "metadata": {},
   "outputs": [
    {
     "name": "stdout",
     "output_type": "stream",
     "text": [
      "10 <class 'int'>\n",
      "simran <class 'str'>\n",
      "1.11 <class 'float'>\n"
     ]
    }
   ],
   "source": [
    "## dynamic typing\n",
    "## Python allows the type of  a avriable to change the program execute\n",
    "var=10\n",
    "print(var,type(var))\n",
    "\n",
    "var=\"simran\"\n",
    "print(var,type(var))\n",
    "\n",
    "var=1.11\n",
    "print(var,type(var))\n"
   ]
  },
  {
   "cell_type": "code",
   "execution_count": 11,
   "metadata": {},
   "outputs": [
    {
     "name": "stdout",
     "output_type": "stream",
     "text": [
      "22 <class 'str'>\n"
     ]
    }
   ],
   "source": [
    "## input\n",
    "\n",
    "age=input(\"what is the age\")\n",
    "print(age,type(age))"
   ]
  },
  {
   "cell_type": "code",
   "execution_count": 12,
   "metadata": {},
   "outputs": [
    {
     "name": "stdout",
     "output_type": "stream",
     "text": [
      "11 <class 'int'>\n"
     ]
    }
   ],
   "source": [
    "age=int(input(\"what is the age\"))\n",
    "print(age,type(age))"
   ]
  },
  {
   "cell_type": "code",
   "execution_count": 15,
   "metadata": {},
   "outputs": [
    {
     "name": "stdout",
     "output_type": "stream",
     "text": [
      "sum: 4.2\n",
      "difference: -0.20000000000000018\n",
      "product: 4.4\n",
      "quotient: 0.9090909090909091\n"
     ]
    }
   ],
   "source": [
    "## calculator\n",
    "\n",
    "num1=float(input(\"enter first number\"))\n",
    "num2 =float(input(\"enter second number\"))\n",
    "\n",
    "sum = num1+num2\n",
    "difference = num1 - num2\n",
    "product = num1*num2\n",
    "quotient = num1/num2\n",
    "\n",
    "print(\"sum:\", sum)\n",
    "print(\"difference:\", difference)\n",
    "print(\"product:\",product )\n",
    "print(\"quotient:\", quotient)"
   ]
  },
  {
   "cell_type": "code",
   "execution_count": null,
   "metadata": {},
   "outputs": [],
   "source": []
  }
 ],
 "metadata": {
  "kernelspec": {
   "display_name": "Python 3",
   "language": "python",
   "name": "python3"
  },
  "language_info": {
   "codemirror_mode": {
    "name": "ipython",
    "version": 3
   },
   "file_extension": ".py",
   "mimetype": "text/x-python",
   "name": "python",
   "nbconvert_exporter": "python",
   "pygments_lexer": "ipython3",
   "version": "3.12.0"
  }
 },
 "nbformat": 4,
 "nbformat_minor": 2
}
